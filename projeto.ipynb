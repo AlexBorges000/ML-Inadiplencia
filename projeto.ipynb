{
 "cells": [
  {
   "cell_type": "code",
   "execution_count": 1,
   "id": "f29adbad-476e-4fd2-9486-3b8c5b1950ab",
   "metadata": {},
   "outputs": [],
   "source": [
    "import psycopg2\n",
    "import pandas as pd\n",
    "import numpy as np\n",
    "import statistics as sts\n",
    "from sklearn.model_selection import train_test_split\n",
    "from sklearn.metrics import confusion_matrix, accuracy_score\n",
    "from sklearn.ensemble import RandomForestClassifier\n",
    "import seaborn as srn\n",
    "from sklearn.preprocessing import LabelEncoder"
   ]
  },
  {
   "cell_type": "code",
   "execution_count": 2,
   "id": "9eaf6991-e220-4062-8ebf-acd5344172f6",
   "metadata": {},
   "outputs": [],
   "source": [
    "conexao = psycopg2.connect(host=\"localhost\",database=\"inadiplencia\", user=\"postgres\", password=\"Al103568545\", port=5432)"
   ]
  },
  {
   "cell_type": "code",
   "execution_count": 3,
   "id": "77b36390-e646-48c9-879e-add5710e9c86",
   "metadata": {},
   "outputs": [],
   "source": [
    "cursor = conexao.cursor()"
   ]
  },
  {
   "cell_type": "code",
   "execution_count": 4,
   "id": "97061c4e-9dc4-4275-8084-1ced0105052a",
   "metadata": {},
   "outputs": [],
   "source": [
    "# consulta_credito = 'SELECT * FROM \"CREDITO\"'\n",
    "consulta_credito = 'SELECT CR.\"Duracao\", HC.\"HISTORICO\", PR.\"PROPOSITO\",CR.\"Valor\", INV.\"INVESTIMENTOS\", ' \\\n",
    "                   'EMP.\"EMPREGO\",CR.\"TempoParcelamento\", ES.\"ESTADOCIVIL\", FT.\"FIADOR\", CR.\"ResidenciaDesde\",' \\\n",
    "                   'CR.\"Idade\", OFC.\"OUTROSFINANCIAMENTOS\", HAB.\"HABITACAO\", CR.\"EmprestimoExistente\", ' \\\n",
    "                   'PRO.\"PROFISSAO\", CR.\"Dependentes\",CR.\"SocioEmpresa\",CR.\"Estrangeiro\",CR.\"Status\" FROM \"CREDITO\" ' \\\n",
    "                   'CR INNER JOIN \"ESTADOCIVIL\" ES ON (CR.\"EstadoCivil\" = ES.\"IDESTADOCIVIL\") INNER JOIN ' \\\n",
    "                   '\"HISTORICO_CREDITO\" HC ON(CR.\"HistoricoCredito\" = HC.\"IDHISTCRED\") INNER JOIN \"PROPOSITO\" PR ON (' \\\n",
    "                   'CR.\"Proposito\" =  PR.\"IDPROPOSITO\") INNER JOIN \"INVESTIMENTOS\" INV ON(CR.\"Investimentos\" = ' \\\n",
    "                   'INV.\"IDINVESTIMENTOS\") INNER JOIN \"EMPREGO\" EMP ON (CR.\"Emprego\" = EMP.\"IDEMPREGO\") INNER JOIN ' \\\n",
    "                   '\"FIADOR\" FT ON (CR.\"FiadorTerceiros\" = FT.\"IDFIADOR\") INNER JOIN \"OUTROSFINANC\" OFC ON (' \\\n",
    "                   'CR.\"OutrosFinanciamentos\" = OFC.\"IDOUTROSFINANC\") INNER JOIN \"HABITACAO\" HAB ON (CR.\"Habitacao\" = ' \\\n",
    "                   'HAB.\"IDHABITACAO\") INNER JOIN \"PROFISSAO\" PRO ON (CR.\"Profissao\" = PRO.\"IDPROFISSAO\")'\n",
    "cursor.execute(consulta_credito)"
   ]
  },
  {
   "cell_type": "code",
   "execution_count": 5,
   "id": "ca0c7950-14f4-48f8-89c0-8cff7ad237e9",
   "metadata": {},
   "outputs": [],
   "source": [
    "registroCredito = cursor.fetchall()"
   ]
  },
  {
   "cell_type": "code",
   "execution_count": 6,
   "id": "02cbcaac-c206-487d-997f-b3af6b933652",
   "metadata": {},
   "outputs": [],
   "source": [
    "pd.options.display.float_format = '{:,.2f}'.format"
   ]
  },
  {
   "cell_type": "code",
   "execution_count": 7,
   "id": "5742a3c1-c42a-463a-aca0-c1c39b80dc87",
   "metadata": {},
   "outputs": [
    {
     "data": {
      "text/html": [
       "<div>\n",
       "<style scoped>\n",
       "    .dataframe tbody tr th:only-of-type {\n",
       "        vertical-align: middle;\n",
       "    }\n",
       "\n",
       "    .dataframe tbody tr th {\n",
       "        vertical-align: top;\n",
       "    }\n",
       "\n",
       "    .dataframe thead th {\n",
       "        text-align: right;\n",
       "    }\n",
       "</style>\n",
       "<table border=\"1\" class=\"dataframe\">\n",
       "  <thead>\n",
       "    <tr style=\"text-align: right;\">\n",
       "      <th></th>\n",
       "      <th>0</th>\n",
       "      <th>1</th>\n",
       "      <th>2</th>\n",
       "      <th>3</th>\n",
       "      <th>4</th>\n",
       "      <th>5</th>\n",
       "      <th>6</th>\n",
       "      <th>7</th>\n",
       "      <th>8</th>\n",
       "      <th>9</th>\n",
       "      <th>10</th>\n",
       "      <th>11</th>\n",
       "      <th>12</th>\n",
       "      <th>13</th>\n",
       "      <th>14</th>\n",
       "      <th>15</th>\n",
       "      <th>16</th>\n",
       "      <th>17</th>\n",
       "      <th>18</th>\n",
       "    </tr>\n",
       "  </thead>\n",
       "  <tbody>\n",
       "    <tr>\n",
       "      <th>0</th>\n",
       "      <td>48</td>\n",
       "      <td>existentes/pagos</td>\n",
       "      <td>reforma</td>\n",
       "      <td>5951</td>\n",
       "      <td>&lt;100\\n</td>\n",
       "      <td>1&lt;=X&lt;4</td>\n",
       "      <td>2</td>\n",
       "      <td>feminino div/dep/cas</td>\n",
       "      <td>nao</td>\n",
       "      <td>2.00</td>\n",
       "      <td>22</td>\n",
       "      <td>nenhum</td>\n",
       "      <td>proria</td>\n",
       "      <td>1</td>\n",
       "      <td>qualificado</td>\n",
       "      <td>1</td>\n",
       "      <td>0</td>\n",
       "      <td>0</td>\n",
       "      <td>0</td>\n",
       "    </tr>\n",
       "    <tr>\n",
       "      <th>1</th>\n",
       "      <td>12</td>\n",
       "      <td>Critico-outros creditos</td>\n",
       "      <td>educacao</td>\n",
       "      <td>2096</td>\n",
       "      <td>&lt;100\\n</td>\n",
       "      <td>4&lt;=X&lt;7</td>\n",
       "      <td>2</td>\n",
       "      <td>masculino solteiro</td>\n",
       "      <td>nao</td>\n",
       "      <td>3.00</td>\n",
       "      <td>49</td>\n",
       "      <td>nenhum</td>\n",
       "      <td>proria</td>\n",
       "      <td>1</td>\n",
       "      <td>nao qualificado</td>\n",
       "      <td>2</td>\n",
       "      <td>0</td>\n",
       "      <td>0</td>\n",
       "      <td>1</td>\n",
       "    </tr>\n",
       "    <tr>\n",
       "      <th>2</th>\n",
       "      <td>42</td>\n",
       "      <td>existentes/pagos</td>\n",
       "      <td>moveis</td>\n",
       "      <td>7882</td>\n",
       "      <td>&lt;100\\n</td>\n",
       "      <td>4&lt;=X&lt;7</td>\n",
       "      <td>2</td>\n",
       "      <td>masculino solteiro</td>\n",
       "      <td>sim</td>\n",
       "      <td>4.00</td>\n",
       "      <td>45</td>\n",
       "      <td>nenhum</td>\n",
       "      <td>de graca</td>\n",
       "      <td>1</td>\n",
       "      <td>qualificado</td>\n",
       "      <td>2</td>\n",
       "      <td>0</td>\n",
       "      <td>0</td>\n",
       "      <td>1</td>\n",
       "    </tr>\n",
       "    <tr>\n",
       "      <th>3</th>\n",
       "      <td>24</td>\n",
       "      <td>Atrasos anteriores</td>\n",
       "      <td>veiculo novo</td>\n",
       "      <td>4870</td>\n",
       "      <td>&lt;100\\n</td>\n",
       "      <td>1&lt;=X&lt;4</td>\n",
       "      <td>3</td>\n",
       "      <td>masculino solteiro</td>\n",
       "      <td>nao</td>\n",
       "      <td>4.00</td>\n",
       "      <td>53</td>\n",
       "      <td>nenhum</td>\n",
       "      <td>de graca</td>\n",
       "      <td>2</td>\n",
       "      <td>qualificado</td>\n",
       "      <td>2</td>\n",
       "      <td>0</td>\n",
       "      <td>0</td>\n",
       "      <td>0</td>\n",
       "    </tr>\n",
       "    <tr>\n",
       "      <th>4</th>\n",
       "      <td>36</td>\n",
       "      <td>existentes/pagos</td>\n",
       "      <td>educacao</td>\n",
       "      <td>9055</td>\n",
       "      <td>Desconhecido\\n</td>\n",
       "      <td>1&lt;=X&lt;4</td>\n",
       "      <td>2</td>\n",
       "      <td>masculino solteiro</td>\n",
       "      <td>nao</td>\n",
       "      <td>4.00</td>\n",
       "      <td>35</td>\n",
       "      <td>nenhum</td>\n",
       "      <td>de graca</td>\n",
       "      <td>1</td>\n",
       "      <td>nao qualificado</td>\n",
       "      <td>2</td>\n",
       "      <td>1</td>\n",
       "      <td>0</td>\n",
       "      <td>1</td>\n",
       "    </tr>\n",
       "    <tr>\n",
       "      <th>...</th>\n",
       "      <td>...</td>\n",
       "      <td>...</td>\n",
       "      <td>...</td>\n",
       "      <td>...</td>\n",
       "      <td>...</td>\n",
       "      <td>...</td>\n",
       "      <td>...</td>\n",
       "      <td>...</td>\n",
       "      <td>...</td>\n",
       "      <td>...</td>\n",
       "      <td>...</td>\n",
       "      <td>...</td>\n",
       "      <td>...</td>\n",
       "      <td>...</td>\n",
       "      <td>...</td>\n",
       "      <td>...</td>\n",
       "      <td>...</td>\n",
       "      <td>...</td>\n",
       "      <td>...</td>\n",
       "    </tr>\n",
       "    <tr>\n",
       "      <th>961</th>\n",
       "      <td>15</td>\n",
       "      <td>existentes/pagos</td>\n",
       "      <td>veiculo novo</td>\n",
       "      <td>1403</td>\n",
       "      <td>&lt;100\\n</td>\n",
       "      <td>1&lt;=X&lt;4</td>\n",
       "      <td>2</td>\n",
       "      <td>feminino div/dep/cas</td>\n",
       "      <td>nao</td>\n",
       "      <td>NaN</td>\n",
       "      <td>28</td>\n",
       "      <td>nenhum</td>\n",
       "      <td>alugada</td>\n",
       "      <td>1</td>\n",
       "      <td>qualificado</td>\n",
       "      <td>1</td>\n",
       "      <td>0</td>\n",
       "      <td>0</td>\n",
       "      <td>1</td>\n",
       "    </tr>\n",
       "    <tr>\n",
       "      <th>962</th>\n",
       "      <td>18</td>\n",
       "      <td>Atrasos anteriores</td>\n",
       "      <td>moveis</td>\n",
       "      <td>4297</td>\n",
       "      <td>&lt;100\\n</td>\n",
       "      <td>&gt;=7</td>\n",
       "      <td>4</td>\n",
       "      <td>maculino div/dep</td>\n",
       "      <td>nao</td>\n",
       "      <td>NaN</td>\n",
       "      <td>40</td>\n",
       "      <td>nenhum</td>\n",
       "      <td>proria</td>\n",
       "      <td>1</td>\n",
       "      <td>altamente qualificado/empresario</td>\n",
       "      <td>1</td>\n",
       "      <td>1</td>\n",
       "      <td>0</td>\n",
       "      <td>0</td>\n",
       "    </tr>\n",
       "    <tr>\n",
       "      <th>963</th>\n",
       "      <td>36</td>\n",
       "      <td>existentes/pagos</td>\n",
       "      <td>educacao</td>\n",
       "      <td>1977</td>\n",
       "      <td>Desconhecido\\n</td>\n",
       "      <td>&gt;=7</td>\n",
       "      <td>4</td>\n",
       "      <td>masculino solteiro</td>\n",
       "      <td>nao</td>\n",
       "      <td>NaN</td>\n",
       "      <td>40</td>\n",
       "      <td>nenhum</td>\n",
       "      <td>proria</td>\n",
       "      <td>1</td>\n",
       "      <td>altamente qualificado/empresario</td>\n",
       "      <td>1</td>\n",
       "      <td>1</td>\n",
       "      <td>0</td>\n",
       "      <td>0</td>\n",
       "    </tr>\n",
       "    <tr>\n",
       "      <th>964</th>\n",
       "      <td>9</td>\n",
       "      <td>Critico-outros creditos</td>\n",
       "      <td>educacao</td>\n",
       "      <td>1136</td>\n",
       "      <td>&gt;=1000</td>\n",
       "      <td>&gt;=7</td>\n",
       "      <td>4</td>\n",
       "      <td>masculino solteiro</td>\n",
       "      <td>nao</td>\n",
       "      <td>NaN</td>\n",
       "      <td>32</td>\n",
       "      <td>nenhum</td>\n",
       "      <td>de graca</td>\n",
       "      <td>2</td>\n",
       "      <td>qualificado</td>\n",
       "      <td>2</td>\n",
       "      <td>0</td>\n",
       "      <td>0</td>\n",
       "      <td>0</td>\n",
       "    </tr>\n",
       "    <tr>\n",
       "      <th>965</th>\n",
       "      <td>12</td>\n",
       "      <td>existentes/pagos</td>\n",
       "      <td>educacao</td>\n",
       "      <td>684</td>\n",
       "      <td>&lt;100\\n</td>\n",
       "      <td>1&lt;=X&lt;4</td>\n",
       "      <td>4</td>\n",
       "      <td>masculino solteiro</td>\n",
       "      <td>nao</td>\n",
       "      <td>NaN</td>\n",
       "      <td>40</td>\n",
       "      <td>nenhum</td>\n",
       "      <td>alugada</td>\n",
       "      <td>1</td>\n",
       "      <td>nao qualificado</td>\n",
       "      <td>2</td>\n",
       "      <td>0</td>\n",
       "      <td>0</td>\n",
       "      <td>0</td>\n",
       "    </tr>\n",
       "  </tbody>\n",
       "</table>\n",
       "<p>966 rows × 19 columns</p>\n",
       "</div>"
      ],
      "text/plain": [
       "     0                        1             2     3               4       5   \\\n",
       "0    48         existentes/pagos       reforma  5951          <100\\n  1<=X<4   \n",
       "1    12  Critico-outros creditos      educacao  2096          <100\\n  4<=X<7   \n",
       "2    42         existentes/pagos        moveis  7882          <100\\n  4<=X<7   \n",
       "3    24       Atrasos anteriores  veiculo novo  4870          <100\\n  1<=X<4   \n",
       "4    36         existentes/pagos      educacao  9055  Desconhecido\\n  1<=X<4   \n",
       "..   ..                      ...           ...   ...             ...     ...   \n",
       "961  15         existentes/pagos  veiculo novo  1403          <100\\n  1<=X<4   \n",
       "962  18       Atrasos anteriores        moveis  4297          <100\\n     >=7   \n",
       "963  36         existentes/pagos      educacao  1977  Desconhecido\\n     >=7   \n",
       "964   9  Critico-outros creditos      educacao  1136          >=1000     >=7   \n",
       "965  12         existentes/pagos      educacao   684          <100\\n  1<=X<4   \n",
       "\n",
       "     6                     7    8    9   10      11        12  13  \\\n",
       "0     2  feminino div/dep/cas  nao 2.00  22  nenhum    proria   1   \n",
       "1     2    masculino solteiro  nao 3.00  49  nenhum    proria   1   \n",
       "2     2    masculino solteiro  sim 4.00  45  nenhum  de graca   1   \n",
       "3     3    masculino solteiro  nao 4.00  53  nenhum  de graca   2   \n",
       "4     2    masculino solteiro  nao 4.00  35  nenhum  de graca   1   \n",
       "..   ..                   ...  ...  ...  ..     ...       ...  ..   \n",
       "961   2  feminino div/dep/cas  nao  NaN  28  nenhum   alugada   1   \n",
       "962   4      maculino div/dep  nao  NaN  40  nenhum    proria   1   \n",
       "963   4    masculino solteiro  nao  NaN  40  nenhum    proria   1   \n",
       "964   4    masculino solteiro  nao  NaN  32  nenhum  de graca   2   \n",
       "965   4    masculino solteiro  nao  NaN  40  nenhum   alugada   1   \n",
       "\n",
       "                                   14  15  16  17  18  \n",
       "0                         qualificado   1   0   0   0  \n",
       "1                     nao qualificado   2   0   0   1  \n",
       "2                         qualificado   2   0   0   1  \n",
       "3                         qualificado   2   0   0   0  \n",
       "4                     nao qualificado   2   1   0   1  \n",
       "..                                ...  ..  ..  ..  ..  \n",
       "961                       qualificado   1   0   0   1  \n",
       "962  altamente qualificado/empresario   1   1   0   0  \n",
       "963  altamente qualificado/empresario   1   1   0   0  \n",
       "964                       qualificado   2   0   0   0  \n",
       "965                   nao qualificado   2   0   0   0  \n",
       "\n",
       "[966 rows x 19 columns]"
      ]
     },
     "execution_count": 7,
     "metadata": {},
     "output_type": "execute_result"
    }
   ],
   "source": [
    "credito = pd.DataFrame(registroCredito)\n",
    "credito"
   ]
  },
  {
   "cell_type": "code",
   "execution_count": 8,
   "id": "896b6ee3-6bc4-47eb-830a-195e50e57f49",
   "metadata": {},
   "outputs": [
    {
     "data": {
      "text/html": [
       "<div>\n",
       "<style scoped>\n",
       "    .dataframe tbody tr th:only-of-type {\n",
       "        vertical-align: middle;\n",
       "    }\n",
       "\n",
       "    .dataframe tbody tr th {\n",
       "        vertical-align: top;\n",
       "    }\n",
       "\n",
       "    .dataframe thead th {\n",
       "        text-align: right;\n",
       "    }\n",
       "</style>\n",
       "<table border=\"1\" class=\"dataframe\">\n",
       "  <thead>\n",
       "    <tr style=\"text-align: right;\">\n",
       "      <th></th>\n",
       "      <th>duracao</th>\n",
       "      <th>historico_credito</th>\n",
       "      <th>proposito</th>\n",
       "      <th>valor</th>\n",
       "      <th>investimentos</th>\n",
       "      <th>emprego</th>\n",
       "      <th>tempo_parcelamento</th>\n",
       "      <th>estado_civil</th>\n",
       "      <th>fiador_terceiros</th>\n",
       "      <th>residencia</th>\n",
       "      <th>idade</th>\n",
       "      <th>outros_financiamentos</th>\n",
       "      <th>habitacao</th>\n",
       "      <th>emprestimo_existente</th>\n",
       "      <th>profissao</th>\n",
       "      <th>dependentes</th>\n",
       "      <th>socio_empresa</th>\n",
       "      <th>estrangeiro</th>\n",
       "      <th>status</th>\n",
       "    </tr>\n",
       "  </thead>\n",
       "  <tbody>\n",
       "    <tr>\n",
       "      <th>0</th>\n",
       "      <td>48</td>\n",
       "      <td>existentes/pagos</td>\n",
       "      <td>reforma</td>\n",
       "      <td>5951</td>\n",
       "      <td>&lt;100\\n</td>\n",
       "      <td>1&lt;=X&lt;4</td>\n",
       "      <td>2</td>\n",
       "      <td>feminino div/dep/cas</td>\n",
       "      <td>nao</td>\n",
       "      <td>2.00</td>\n",
       "      <td>22</td>\n",
       "      <td>nenhum</td>\n",
       "      <td>proria</td>\n",
       "      <td>1</td>\n",
       "      <td>qualificado</td>\n",
       "      <td>1</td>\n",
       "      <td>0</td>\n",
       "      <td>0</td>\n",
       "      <td>0</td>\n",
       "    </tr>\n",
       "    <tr>\n",
       "      <th>1</th>\n",
       "      <td>12</td>\n",
       "      <td>Critico-outros creditos</td>\n",
       "      <td>educacao</td>\n",
       "      <td>2096</td>\n",
       "      <td>&lt;100\\n</td>\n",
       "      <td>4&lt;=X&lt;7</td>\n",
       "      <td>2</td>\n",
       "      <td>masculino solteiro</td>\n",
       "      <td>nao</td>\n",
       "      <td>3.00</td>\n",
       "      <td>49</td>\n",
       "      <td>nenhum</td>\n",
       "      <td>proria</td>\n",
       "      <td>1</td>\n",
       "      <td>nao qualificado</td>\n",
       "      <td>2</td>\n",
       "      <td>0</td>\n",
       "      <td>0</td>\n",
       "      <td>1</td>\n",
       "    </tr>\n",
       "    <tr>\n",
       "      <th>2</th>\n",
       "      <td>42</td>\n",
       "      <td>existentes/pagos</td>\n",
       "      <td>moveis</td>\n",
       "      <td>7882</td>\n",
       "      <td>&lt;100\\n</td>\n",
       "      <td>4&lt;=X&lt;7</td>\n",
       "      <td>2</td>\n",
       "      <td>masculino solteiro</td>\n",
       "      <td>sim</td>\n",
       "      <td>4.00</td>\n",
       "      <td>45</td>\n",
       "      <td>nenhum</td>\n",
       "      <td>de graca</td>\n",
       "      <td>1</td>\n",
       "      <td>qualificado</td>\n",
       "      <td>2</td>\n",
       "      <td>0</td>\n",
       "      <td>0</td>\n",
       "      <td>1</td>\n",
       "    </tr>\n",
       "    <tr>\n",
       "      <th>3</th>\n",
       "      <td>24</td>\n",
       "      <td>Atrasos anteriores</td>\n",
       "      <td>veiculo novo</td>\n",
       "      <td>4870</td>\n",
       "      <td>&lt;100\\n</td>\n",
       "      <td>1&lt;=X&lt;4</td>\n",
       "      <td>3</td>\n",
       "      <td>masculino solteiro</td>\n",
       "      <td>nao</td>\n",
       "      <td>4.00</td>\n",
       "      <td>53</td>\n",
       "      <td>nenhum</td>\n",
       "      <td>de graca</td>\n",
       "      <td>2</td>\n",
       "      <td>qualificado</td>\n",
       "      <td>2</td>\n",
       "      <td>0</td>\n",
       "      <td>0</td>\n",
       "      <td>0</td>\n",
       "    </tr>\n",
       "    <tr>\n",
       "      <th>4</th>\n",
       "      <td>36</td>\n",
       "      <td>existentes/pagos</td>\n",
       "      <td>educacao</td>\n",
       "      <td>9055</td>\n",
       "      <td>Desconhecido\\n</td>\n",
       "      <td>1&lt;=X&lt;4</td>\n",
       "      <td>2</td>\n",
       "      <td>masculino solteiro</td>\n",
       "      <td>nao</td>\n",
       "      <td>4.00</td>\n",
       "      <td>35</td>\n",
       "      <td>nenhum</td>\n",
       "      <td>de graca</td>\n",
       "      <td>1</td>\n",
       "      <td>nao qualificado</td>\n",
       "      <td>2</td>\n",
       "      <td>1</td>\n",
       "      <td>0</td>\n",
       "      <td>1</td>\n",
       "    </tr>\n",
       "  </tbody>\n",
       "</table>\n",
       "</div>"
      ],
      "text/plain": [
       "   duracao        historico_credito     proposito  valor   investimentos  \\\n",
       "0       48         existentes/pagos       reforma   5951          <100\\n   \n",
       "1       12  Critico-outros creditos      educacao   2096          <100\\n   \n",
       "2       42         existentes/pagos        moveis   7882          <100\\n   \n",
       "3       24       Atrasos anteriores  veiculo novo   4870          <100\\n   \n",
       "4       36         existentes/pagos      educacao   9055  Desconhecido\\n   \n",
       "\n",
       "  emprego  tempo_parcelamento          estado_civil fiador_terceiros  \\\n",
       "0  1<=X<4                   2  feminino div/dep/cas              nao   \n",
       "1  4<=X<7                   2    masculino solteiro              nao   \n",
       "2  4<=X<7                   2    masculino solteiro              sim   \n",
       "3  1<=X<4                   3    masculino solteiro              nao   \n",
       "4  1<=X<4                   2    masculino solteiro              nao   \n",
       "\n",
       "   residencia  idade outros_financiamentos habitacao  emprestimo_existente  \\\n",
       "0        2.00     22                nenhum    proria                     1   \n",
       "1        3.00     49                nenhum    proria                     1   \n",
       "2        4.00     45                nenhum  de graca                     1   \n",
       "3        4.00     53                nenhum  de graca                     2   \n",
       "4        4.00     35                nenhum  de graca                     1   \n",
       "\n",
       "         profissao  dependentes  socio_empresa  estrangeiro  status  \n",
       "0      qualificado            1              0            0       0  \n",
       "1  nao qualificado            2              0            0       1  \n",
       "2      qualificado            2              0            0       1  \n",
       "3      qualificado            2              0            0       0  \n",
       "4  nao qualificado            2              1            0       1  "
      ]
     },
     "execution_count": 8,
     "metadata": {},
     "output_type": "execute_result"
    }
   ],
   "source": [
    "credito.columns = [\"duracao\", \"historico_credito\", \"proposito\", \"valor\", \"investimentos\", \n",
    "                   \"emprego\", \"tempo_parcelamento\", \"estado_civil\", \"fiador_terceiros\", \"residencia\", \n",
    "                   \"idade\", \"outros_financiamentos\", \"habitacao\", \"emprestimo_existente\", \n",
    "                   \"profissao\", \"dependentes\", \"socio_empresa\", \"estrangeiro\", \"status\"]\n",
    "credito.head()"
   ]
  },
  {
   "cell_type": "markdown",
   "id": "cb90854e-ceb0-45a8-9aae-bffd86ce5433",
   "metadata": {},
   "source": [
    "# Análise, exploração de dados e exclusão de junkdata  "
   ]
  },
  {
   "cell_type": "code",
   "execution_count": 9,
   "id": "ee6c2283-c46d-4451-9470-8637321bd81f",
   "metadata": {},
   "outputs": [],
   "source": [
    "credito.drop([\"investimentos\", \"emprego\", \"residencia\"], axis=1, inplace=True)"
   ]
  },
  {
   "cell_type": "code",
   "execution_count": 10,
   "id": "ec9d5d45-5158-4d68-8d05-4abf4f17aaf4",
   "metadata": {},
   "outputs": [
    {
     "data": {
      "text/plain": [
       "0"
      ]
     },
     "execution_count": 10,
     "metadata": {},
     "output_type": "execute_result"
    }
   ],
   "source": [
    "credito.isna().values.sum()"
   ]
  },
  {
   "cell_type": "code",
   "execution_count": 11,
   "id": "73997f50-7416-4b65-8f87-0208da049d4e",
   "metadata": {},
   "outputs": [
    {
     "data": {
      "text/plain": [
       "Text(0.5, 1.0, 'valor')"
      ]
     },
     "execution_count": 11,
     "metadata": {},
     "output_type": "execute_result"
    },
    {
     "data": {
      "image/png": "[encoded data removed]",
      "text/plain": [
       "<Figure size 640x480 with 1 Axes>"
      ]
     },
     "metadata": {},
     "output_type": "display_data"
    }
   ],
   "source": [
    "srn.boxplot(credito['valor']).set_title('valor')"
   ]
  },
  {
   "cell_type": "code",
   "execution_count": 12,
   "id": "8d7d115b-0f6f-40a4-8820-91332b6c9b2e",
   "metadata": {},
   "outputs": [],
   "source": [
    "credito.valor = np.log(credito.valor)"
   ]
  },
  {
   "cell_type": "code",
   "execution_count": 13,
   "id": "adda4dba-e729-4e02-a6cb-72436f24d028",
   "metadata": {},
   "outputs": [
    {
     "data": {
      "text/plain": [
       "<AxesSubplot:xlabel='valor', ylabel='Count'>"
      ]
     },
     "execution_count": 13,
     "metadata": {},
     "output_type": "execute_result"
    },
    {
     "data": {
      "image/png": "[encoded data removed]",
      "text/plain": [
       "<Figure size 640x480 with 1 Axes>"
      ]
     },
     "metadata": {},
     "output_type": "display_data"
    }
   ],
   "source": [
    "srn.histplot(x=credito.valor)"
   ]
  },
  {
   "cell_type": "code",
   "execution_count": 14,
   "id": "87e3a7dd-5dc6-49e1-9155-1aca379c4d16",
   "metadata": {},
   "outputs": [
    {
     "data": {
      "text/plain": [
       "estado_civil\n",
       "feminino div/dep/cas    301\n",
       "maculino div/dep         50\n",
       "masculino cas/viu        88\n",
       "masculino solteiro      527\n",
       "dtype: int64"
      ]
     },
     "execution_count": 14,
     "metadata": {},
     "output_type": "execute_result"
    }
   ],
   "source": [
    "estado_civil = credito.groupby([\"estado_civil\"]).size()\n",
    "estado_civil"
   ]
  },
  {
   "cell_type": "code",
   "execution_count": 15,
   "id": "74b6bb75-69a3-4d84-937a-42218c831d49",
   "metadata": {},
   "outputs": [
    {
     "data": {
      "text/plain": [
       "<AxesSubplot:>"
      ]
     },
     "execution_count": 15,
     "metadata": {},
     "output_type": "execute_result"
    },
    {
     "data": {
      "image/png": "[encoded data removed]",
      "text/plain": [
       "<Figure size 640x480 with 1 Axes>"
      ]
     },
     "metadata": {},
     "output_type": "display_data"
    }
   ],
   "source": [
    "srn.boxplot(credito[\"idade\"])"
   ]
  },
  {
   "cell_type": "code",
   "execution_count": 16,
   "id": "9781cc96-ed9a-469c-b1d6-304eb38be32a",
   "metadata": {},
   "outputs": [
    {
     "data": {
      "text/plain": [
       "count   966.00\n",
       "mean     35.52\n",
       "std      11.37\n",
       "min      19.00\n",
       "25%      27.00\n",
       "50%      33.00\n",
       "75%      42.00\n",
       "max      75.00\n",
       "Name: idade, dtype: float64"
      ]
     },
     "execution_count": 16,
     "metadata": {},
     "output_type": "execute_result"
    }
   ],
   "source": [
    "credito.idade.describe()"
   ]
  },
  {
   "cell_type": "code",
   "execution_count": 17,
   "id": "5e066bce-db2c-464e-8407-19ed25c821b1",
   "metadata": {},
   "outputs": [
    {
     "data": {
      "text/plain": [
       "<AxesSubplot:>"
      ]
     },
     "execution_count": 17,
     "metadata": {},
     "output_type": "execute_result"
    },
    {
     "data": {
      "image/png": "[encoded data removed]",
      "text/plain": [
       "<Figure size 640x480 with 1 Axes>"
      ]
     },
     "metadata": {},
     "output_type": "display_data"
    }
   ],
   "source": [
    "srn.boxplot(credito[\"tempo_parcelamento\"])"
   ]
  },
  {
   "cell_type": "code",
   "execution_count": 18,
   "id": "cf9c9ef8-837a-406e-a65f-e2ca40a22823",
   "metadata": {},
   "outputs": [
    {
     "data": {
      "text/plain": [
       "<AxesSubplot:>"
      ]
     },
     "execution_count": 18,
     "metadata": {},
     "output_type": "execute_result"
    },
    {
     "data": {
      "image/png": "[encoded data removed]",
      "text/plain": [
       "<Figure size 640x480 with 1 Axes>"
      ]
     },
     "metadata": {},
     "output_type": "display_data"
    }
   ],
   "source": [
    "srn.boxplot(credito[\"duracao\"])"
   ]
  },
  {
   "cell_type": "code",
   "execution_count": 19,
   "id": "44eab9f5-57ee-4861-a079-d017e7d57973",
   "metadata": {},
   "outputs": [
    {
     "data": {
      "text/plain": [
       "count   966.00\n",
       "mean     20.81\n",
       "std      12.08\n",
       "min       4.00\n",
       "25%      12.00\n",
       "50%      18.00\n",
       "75%      24.00\n",
       "max      72.00\n",
       "Name: duracao, dtype: float64"
      ]
     },
     "execution_count": 19,
     "metadata": {},
     "output_type": "execute_result"
    }
   ],
   "source": [
    "credito.duracao.describe()"
   ]
  },
  {
   "cell_type": "code",
   "execution_count": 20,
   "id": "120971b9-34ed-4ea7-8064-b7233d4027b8",
   "metadata": {},
   "outputs": [
    {
     "data": {
      "text/plain": [
       "historico_credito\n",
       "Atrasos anteriores           83\n",
       "Critico-outros creditos     285\n",
       "existentes/pagos            511\n",
       "sem creditos/todos pagos     40\n",
       "todos pagos                  47\n",
       "dtype: int64"
      ]
     },
     "execution_count": 20,
     "metadata": {},
     "output_type": "execute_result"
    }
   ],
   "source": [
    "historico_credito = credito.groupby([\"historico_credito\"]).size()\n",
    "historico_credito"
   ]
  },
  {
   "cell_type": "code",
   "execution_count": 21,
   "id": "69c7eb34-84b7-4444-8dc9-c0b919a0ac37",
   "metadata": {},
   "outputs": [
    {
     "data": {
      "text/plain": [
       "proposito\n",
       "abrir negocio     94\n",
       "educacao          48\n",
       "moveis           175\n",
       "outros            12\n",
       "qualificacao       8\n",
       "quitar divida     12\n",
       "reforma          270\n",
       "reforma casa      22\n",
       "veiculo novo     228\n",
       "veiculo usado     97\n",
       "dtype: int64"
      ]
     },
     "execution_count": 21,
     "metadata": {},
     "output_type": "execute_result"
    }
   ],
   "source": [
    "proposito = credito.groupby(credito[\"proposito\"]).size()\n",
    "proposito"
   ]
  },
  {
   "cell_type": "code",
   "execution_count": 22,
   "id": "bd39b96c-0d4a-4f2c-a161-5451317bf725",
   "metadata": {},
   "outputs": [
    {
     "data": {
      "text/plain": [
       "fiador_terceiros\n",
       "co aplicante       1\n",
       "co requerente     39\n",
       "nao              879\n",
       "sim               47\n",
       "dtype: int64"
      ]
     },
     "execution_count": 22,
     "metadata": {},
     "output_type": "execute_result"
    }
   ],
   "source": [
    "fiador_terceiros = credito.groupby(credito[\"fiador_terceiros\"]).size()\n",
    "fiador_terceiros"
   ]
  },
  {
   "cell_type": "code",
   "execution_count": 23,
   "id": "08e7a071-566c-43bd-96d2-f4022c104884",
   "metadata": {},
   "outputs": [
    {
     "data": {
      "text/plain": [
       "outros_financiamentos\n",
       "banco     136\n",
       "loja       42\n",
       "nenhum    788\n",
       "dtype: int64"
      ]
     },
     "execution_count": 23,
     "metadata": {},
     "output_type": "execute_result"
    }
   ],
   "source": [
    "outros_financiamentos = credito.groupby(credito[\"outros_financiamentos\"]).size()\n",
    "outros_financiamentos"
   ]
  },
  {
   "cell_type": "code",
   "execution_count": 24,
   "id": "aa18c5d4-d5b2-4541-844f-bc269ee66e1e",
   "metadata": {},
   "outputs": [
    {
     "data": {
      "text/plain": [
       "habitacao\n",
       "alugada     172\n",
       "de graca    104\n",
       "proria      690\n",
       "dtype: int64"
      ]
     },
     "execution_count": 24,
     "metadata": {},
     "output_type": "execute_result"
    }
   ],
   "source": [
    "habitacao = credito.groupby(credito[\"habitacao\"]).size()\n",
    "habitacao"
   ]
  },
  {
   "cell_type": "code",
   "execution_count": 25,
   "id": "70abf786-f6b9-4619-bea5-a7015a258445",
   "metadata": {},
   "outputs": [
    {
     "data": {
      "text/plain": [
       "count   966.00\n",
       "mean      1.41\n",
       "std       0.58\n",
       "min       1.00\n",
       "25%       1.00\n",
       "50%       1.00\n",
       "75%       2.00\n",
       "max       4.00\n",
       "Name: emprestimo_existente, dtype: float64"
      ]
     },
     "execution_count": 25,
     "metadata": {},
     "output_type": "execute_result"
    }
   ],
   "source": [
    "credito.emprestimo_existente.describe()"
   ]
  },
  {
   "cell_type": "code",
   "execution_count": 26,
   "id": "260b74a3-499b-4130-be32-7eb53b276194",
   "metadata": {},
   "outputs": [
    {
     "data": {
      "text/plain": [
       "<AxesSubplot:>"
      ]
     },
     "execution_count": 26,
     "metadata": {},
     "output_type": "execute_result"
    },
    {
     "data": {
      "image/png": "[encoded data removed]",
      "text/plain": [
       "<Figure size 640x480 with 1 Axes>"
      ]
     },
     "metadata": {},
     "output_type": "display_data"
    }
   ],
   "source": [
    "srn.boxplot(credito[\"emprestimo_existente\"])"
   ]
  },
  {
   "cell_type": "code",
   "execution_count": 27,
   "id": "9822fe08-0f8c-4cdc-b4d8-711dce5c0bf9",
   "metadata": {},
   "outputs": [
    {
     "data": {
      "text/plain": [
       "count   966.00\n",
       "mean      1.41\n",
       "std       0.58\n",
       "min       1.00\n",
       "25%       1.00\n",
       "50%       1.00\n",
       "75%       2.00\n",
       "max       4.00\n",
       "Name: emprestimo_existente, dtype: float64"
      ]
     },
     "execution_count": 27,
     "metadata": {},
     "output_type": "execute_result"
    }
   ],
   "source": [
    "credito.emprestimo_existente.describe()"
   ]
  },
  {
   "cell_type": "code",
   "execution_count": 28,
   "id": "089cc07d-d040-484d-bc7d-e8ef1b14cd78",
   "metadata": {},
   "outputs": [
    {
     "data": {
      "text/plain": [
       "profissao\n",
       "altamente qualificado/empresario    139\n",
       "desempregado                         22\n",
       "nao qualificado                     194\n",
       "qualificado                         611\n",
       "dtype: int64"
      ]
     },
     "execution_count": 28,
     "metadata": {},
     "output_type": "execute_result"
    }
   ],
   "source": [
    "agrupado_credito = credito.groupby(credito[\"profissao\"]).size()\n",
    "agrupado_credito"
   ]
  },
  {
   "cell_type": "code",
   "execution_count": 29,
   "id": "9a6a02c7-ec7a-4a61-a309-826449ed0962",
   "metadata": {},
   "outputs": [
    {
     "data": {
      "text/plain": [
       "dependentes\n",
       "1    814\n",
       "2    152\n",
       "dtype: int64"
      ]
     },
     "execution_count": 29,
     "metadata": {},
     "output_type": "execute_result"
    }
   ],
   "source": [
    "dependentes = credito.groupby(credito[\"dependentes\"]).size()\n",
    "dependentes"
   ]
  },
  {
   "cell_type": "markdown",
   "id": "e068a539-08c8-456c-bd65-d4f83af969b9",
   "metadata": {},
   "source": [
    "# Padronização para o modelo e Modelo funcionando\n",
    "Aproximadamente 75% de accuracy utilizando Random Forest"
   ]
  },
  {
   "cell_type": "code",
   "execution_count": 30,
   "id": "8ab2038c-103c-493e-a347-30fce0652302",
   "metadata": {},
   "outputs": [],
   "source": [
    "X = credito.iloc[:,0:15].values\n",
    "y = credito.iloc[:,15].values\n"
   ]
  },
  {
   "cell_type": "code",
   "execution_count": 31,
   "id": "c859e347-d0d5-4bde-b1a3-4bced328bc84",
   "metadata": {},
   "outputs": [],
   "source": [
    "labelencoder = LabelEncoder()\n",
    "X[:,1] = labelencoder.fit_transform(X[:,1])\n",
    "X[:,2] = labelencoder.fit_transform(X[:,2])\n",
    "X[:,5] = labelencoder.fit_transform(X[:,5])\n",
    "X[:,6] = labelencoder.fit_transform(X[:,6])\n",
    "X[:,8] = labelencoder.fit_transform(X[:,8])\n",
    "X[:,9] = labelencoder.fit_transform(X[:,9])\n",
    "X[:,11] = labelencoder.fit_transform(X[:,11])\n"
   ]
  },
  {
   "cell_type": "code",
   "execution_count": 32,
   "id": "4c284e1e-6d35-40b2-a017-7a90c03fd76f",
   "metadata": {},
   "outputs": [],
   "source": [
    "X_treinamento, X_teste, y_treinamento, y_teste = train_test_split(X,\n",
    "                                                                  y,\n",
    "                                                                  test_size = 0.2,\n",
    "                                                                  random_state = 0)\n"
   ]
  },
  {
   "cell_type": "code",
   "execution_count": 33,
   "id": "fc56f31e-c70e-454a-9b5a-96b392159306",
   "metadata": {},
   "outputs": [
    {
     "data": {
      "text/html": [
       "<style>#sk-container-id-1 {color: black;background-color: white;}#sk-container-id-1 pre{padding: 0;}#sk-container-id-1 div.sk-toggleable {background-color: white;}#sk-container-id-1 label.sk-toggleable__label {cursor: pointer;display: block;width: 100%;margin-bottom: 0;padding: 0.3em;box-sizing: border-box;text-align: center;}#sk-container-id-1 label.sk-toggleable__label-arrow:before {content: \"▸\";float: left;margin-right: 0.25em;color: #696969;}#sk-container-id-1 label.sk-toggleable__label-arrow:hover:before {color: black;}#sk-container-id-1 div.sk-estimator:hover label.sk-toggleable__label-arrow:before {color: black;}#sk-container-id-1 div.sk-toggleable__content {max-height: 0;max-width: 0;overflow: hidden;text-align: left;background-color: #f0f8ff;}#sk-container-id-1 div.sk-toggleable__content pre {margin: 0.2em;color: black;border-radius: 0.25em;background-color: #f0f8ff;}#sk-container-id-1 input.sk-toggleable__control:checked~div.sk-toggleable__content {max-height: 200px;max-width: 100%;overflow: auto;}#sk-container-id-1 input.sk-toggleable__control:checked~label.sk-toggleable__label-arrow:before {content: \"▾\";}#sk-container-id-1 div.sk-estimator input.sk-toggleable__control:checked~label.sk-toggleable__label {background-color: #d4ebff;}#sk-container-id-1 div.sk-label input.sk-toggleable__control:checked~label.sk-toggleable__label {background-color: #d4ebff;}#sk-container-id-1 input.sk-hidden--visually {border: 0;clip: rect(1px 1px 1px 1px);clip: rect(1px, 1px, 1px, 1px);height: 1px;margin: -1px;overflow: hidden;padding: 0;position: absolute;width: 1px;}#sk-container-id-1 div.sk-estimator {font-family: monospace;background-color: #f0f8ff;border: 1px dotted black;border-radius: 0.25em;box-sizing: border-box;margin-bottom: 0.5em;}#sk-container-id-1 div.sk-estimator:hover {background-color: #d4ebff;}#sk-container-id-1 div.sk-parallel-item::after {content: \"\";width: 100%;border-bottom: 1px solid gray;flex-grow: 1;}#sk-container-id-1 div.sk-label:hover label.sk-toggleable__label {background-color: #d4ebff;}#sk-container-id-1 div.sk-serial::before {content: \"\";position: absolute;border-left: 1px solid gray;box-sizing: border-box;top: 0;bottom: 0;left: 50%;z-index: 0;}#sk-container-id-1 div.sk-serial {display: flex;flex-direction: column;align-items: center;background-color: white;padding-right: 0.2em;padding-left: 0.2em;position: relative;}#sk-container-id-1 div.sk-item {position: relative;z-index: 1;}#sk-container-id-1 div.sk-parallel {display: flex;align-items: stretch;justify-content: center;background-color: white;position: relative;}#sk-container-id-1 div.sk-item::before, #sk-container-id-1 div.sk-parallel-item::before {content: \"\";position: absolute;border-left: 1px solid gray;box-sizing: border-box;top: 0;bottom: 0;left: 50%;z-index: -1;}#sk-container-id-1 div.sk-parallel-item {display: flex;flex-direction: column;z-index: 1;position: relative;background-color: white;}#sk-container-id-1 div.sk-parallel-item:first-child::after {align-self: flex-end;width: 50%;}#sk-container-id-1 div.sk-parallel-item:last-child::after {align-self: flex-start;width: 50%;}#sk-container-id-1 div.sk-parallel-item:only-child::after {width: 0;}#sk-container-id-1 div.sk-dashed-wrapped {border: 1px dashed gray;margin: 0 0.4em 0.5em 0.4em;box-sizing: border-box;padding-bottom: 0.4em;background-color: white;}#sk-container-id-1 div.sk-label label {font-family: monospace;font-weight: bold;display: inline-block;line-height: 1.2em;}#sk-container-id-1 div.sk-label-container {text-align: center;}#sk-container-id-1 div.sk-container {/* jupyter's `normalize.less` sets `[hidden] { display: none; }` but bootstrap.min.css set `[hidden] { display: none !important; }` so we also need the `!important` here to be able to override the default hidden behavior on the sphinx rendered scikit-learn.org. See: https://github.com/scikit-learn/scikit-learn/issues/21755 */display: inline-block !important;position: relative;}#sk-container-id-1 div.sk-text-repr-fallback {display: none;}</style><div id=\"sk-container-id-1\" class=\"sk-top-container\"><div class=\"sk-text-repr-fallback\"><pre>RandomForestClassifier(n_estimators=20000)</pre><b>In a Jupyter environment, please rerun this cell to show the HTML representation or trust the notebook. <br />On GitHub, the HTML representation is unable to render, please try loading this page with nbviewer.org.</b></div><div class=\"sk-container\" hidden><div class=\"sk-item\"><div class=\"sk-estimator sk-toggleable\"><input class=\"sk-toggleable__control sk-hidden--visually\" id=\"sk-estimator-id-1\" type=\"checkbox\" checked><label for=\"sk-estimator-id-1\" class=\"sk-toggleable__label sk-toggleable__label-arrow\">RandomForestClassifier</label><div class=\"sk-toggleable__content\"><pre>RandomForestClassifier(n_estimators=20000)</pre></div></div></div></div></div>"
      ],
      "text/plain": [
       "RandomForestClassifier(n_estimators=20000)"
      ]
     },
     "execution_count": 33,
     "metadata": {},
     "output_type": "execute_result"
    }
   ],
   "source": [
    "floresta = RandomForestClassifier(n_estimators=20000)\n",
    "floresta.fit(X_treinamento, y_treinamento)"
   ]
  },
  {
   "cell_type": "code",
   "execution_count": 42,
   "id": "c05c9131-e751-4929-b55c-1b57f7260234",
   "metadata": {},
   "outputs": [
    {
     "name": "stdout",
     "output_type": "stream",
     "text": [
      "Taxa de acerto: 75.8%\n"
     ]
    }
   ],
   "source": [
    "previsoes = floresta.predict(X_teste)\n",
    "confusao = confusion_matrix(y_teste, previsoes)\n",
    "taxa_acerto = accuracy_score(y_teste, previsoes) \n",
    "accurancy = taxa_acerto*100\n",
    "\n",
    "print(f\"Taxa de acerto: {accurancy:.3}%\")"
   ]
  },
  {
   "cell_type": "code",
   "execution_count": 35,
   "id": "72d1ecb2-0546-4908-9178-7cb8db4dd9a0",
   "metadata": {
    "scrolled": true,
    "tags": []
   },
   "outputs": [
    {
     "name": "stdout",
     "output_type": "stream",
     "text": [
      "Entrada: 1 Previsão: 0\n",
      "Entrada: 1 Previsão: 1\n",
      "Entrada: 1 Previsão: 1\n",
      "Entrada: 1 Previsão: 1\n",
      "Entrada: 0 Previsão: 0\n",
      "Entrada: 0 Previsão: 1\n",
      "Entrada: 1 Previsão: 1\n",
      "Entrada: 0 Previsão: 1\n",
      "Entrada: 1 Previsão: 1\n",
      "Entrada: 1 Previsão: 1\n",
      "Entrada: 0 Previsão: 1\n",
      "Entrada: 1 Previsão: 1\n",
      "Entrada: 1 Previsão: 1\n",
      "Entrada: 0 Previsão: 0\n",
      "Entrada: 1 Previsão: 1\n",
      "Entrada: 0 Previsão: 0\n",
      "Entrada: 1 Previsão: 1\n",
      "Entrada: 0 Previsão: 1\n",
      "Entrada: 0 Previsão: 1\n",
      "Entrada: 1 Previsão: 1\n",
      "Entrada: 0 Previsão: 0\n",
      "Entrada: 1 Previsão: 1\n",
      "Entrada: 1 Previsão: 0\n",
      "Entrada: 1 Previsão: 1\n",
      "Entrada: 0 Previsão: 1\n",
      "Entrada: 1 Previsão: 1\n",
      "Entrada: 1 Previsão: 1\n",
      "Entrada: 1 Previsão: 1\n",
      "Entrada: 0 Previsão: 1\n",
      "Entrada: 0 Previsão: 1\n",
      "Entrada: 0 Previsão: 1\n",
      "Entrada: 0 Previsão: 0\n",
      "Entrada: 1 Previsão: 1\n",
      "Entrada: 1 Previsão: 1\n",
      "Entrada: 0 Previsão: 1\n",
      "Entrada: 0 Previsão: 1\n",
      "Entrada: 0 Previsão: 1\n",
      "Entrada: 0 Previsão: 1\n",
      "Entrada: 0 Previsão: 0\n",
      "Entrada: 1 Previsão: 1\n",
      "Entrada: 1 Previsão: 1\n",
      "Entrada: 0 Previsão: 1\n",
      "Entrada: 1 Previsão: 1\n",
      "Entrada: 1 Previsão: 1\n",
      "Entrada: 1 Previsão: 1\n",
      "Entrada: 0 Previsão: 1\n",
      "Entrada: 1 Previsão: 1\n",
      "Entrada: 1 Previsão: 1\n",
      "Entrada: 1 Previsão: 1\n",
      "Entrada: 0 Previsão: 0\n",
      "Entrada: 1 Previsão: 1\n",
      "Entrada: 1 Previsão: 1\n",
      "Entrada: 1 Previsão: 1\n",
      "Entrada: 1 Previsão: 0\n",
      "Entrada: 1 Previsão: 1\n",
      "Entrada: 0 Previsão: 1\n",
      "Entrada: 1 Previsão: 1\n",
      "Entrada: 1 Previsão: 1\n",
      "Entrada: 0 Previsão: 0\n",
      "Entrada: 1 Previsão: 1\n",
      "Entrada: 1 Previsão: 0\n",
      "Entrada: 0 Previsão: 0\n",
      "Entrada: 1 Previsão: 0\n",
      "Entrada: 1 Previsão: 1\n",
      "Entrada: 1 Previsão: 1\n",
      "Entrada: 1 Previsão: 1\n",
      "Entrada: 0 Previsão: 1\n",
      "Entrada: 1 Previsão: 1\n",
      "Entrada: 1 Previsão: 1\n",
      "Entrada: 1 Previsão: 1\n",
      "Entrada: 0 Previsão: 0\n",
      "Entrada: 0 Previsão: 0\n",
      "Entrada: 1 Previsão: 1\n",
      "Entrada: 1 Previsão: 1\n",
      "Entrada: 1 Previsão: 1\n",
      "Entrada: 1 Previsão: 1\n",
      "Entrada: 1 Previsão: 1\n",
      "Entrada: 1 Previsão: 1\n",
      "Entrada: 1 Previsão: 1\n",
      "Entrada: 1 Previsão: 1\n",
      "Entrada: 1 Previsão: 0\n",
      "Entrada: 1 Previsão: 1\n",
      "Entrada: 1 Previsão: 0\n",
      "Entrada: 1 Previsão: 1\n",
      "Entrada: 1 Previsão: 1\n",
      "Entrada: 1 Previsão: 1\n",
      "Entrada: 1 Previsão: 1\n",
      "Entrada: 0 Previsão: 1\n",
      "Entrada: 1 Previsão: 1\n",
      "Entrada: 1 Previsão: 1\n",
      "Entrada: 1 Previsão: 1\n",
      "Entrada: 1 Previsão: 1\n",
      "Entrada: 1 Previsão: 0\n",
      "Entrada: 1 Previsão: 1\n",
      "Entrada: 1 Previsão: 1\n",
      "Entrada: 1 Previsão: 1\n",
      "Entrada: 0 Previsão: 0\n",
      "Entrada: 1 Previsão: 1\n",
      "Entrada: 0 Previsão: 1\n",
      "Entrada: 1 Previsão: 1\n",
      "Entrada: 1 Previsão: 1\n",
      "Entrada: 1 Previsão: 1\n",
      "Entrada: 0 Previsão: 1\n",
      "Entrada: 1 Previsão: 1\n",
      "Entrada: 1 Previsão: 1\n",
      "Entrada: 1 Previsão: 1\n",
      "Entrada: 1 Previsão: 1\n",
      "Entrada: 1 Previsão: 1\n",
      "Entrada: 0 Previsão: 1\n",
      "Entrada: 1 Previsão: 1\n",
      "Entrada: 0 Previsão: 0\n",
      "Entrada: 1 Previsão: 1\n",
      "Entrada: 1 Previsão: 1\n",
      "Entrada: 1 Previsão: 1\n",
      "Entrada: 1 Previsão: 1\n",
      "Entrada: 1 Previsão: 1\n",
      "Entrada: 1 Previsão: 0\n",
      "Entrada: 1 Previsão: 1\n",
      "Entrada: 1 Previsão: 0\n",
      "Entrada: 1 Previsão: 0\n",
      "Entrada: 1 Previsão: 1\n",
      "Entrada: 1 Previsão: 1\n",
      "Entrada: 1 Previsão: 1\n",
      "Entrada: 1 Previsão: 1\n",
      "Entrada: 1 Previsão: 1\n",
      "Entrada: 1 Previsão: 1\n",
      "Entrada: 1 Previsão: 1\n",
      "Entrada: 1 Previsão: 1\n",
      "Entrada: 1 Previsão: 1\n",
      "Entrada: 1 Previsão: 1\n",
      "Entrada: 1 Previsão: 0\n",
      "Entrada: 1 Previsão: 1\n",
      "Entrada: 1 Previsão: 1\n",
      "Entrada: 1 Previsão: 1\n",
      "Entrada: 1 Previsão: 1\n",
      "Entrada: 1 Previsão: 1\n",
      "Entrada: 0 Previsão: 1\n",
      "Entrada: 1 Previsão: 1\n",
      "Entrada: 0 Previsão: 1\n",
      "Entrada: 0 Previsão: 1\n",
      "Entrada: 1 Previsão: 1\n",
      "Entrada: 1 Previsão: 1\n",
      "Entrada: 1 Previsão: 1\n",
      "Entrada: 0 Previsão: 0\n",
      "Entrada: 1 Previsão: 1\n",
      "Entrada: 0 Previsão: 1\n",
      "Entrada: 1 Previsão: 1\n",
      "Entrada: 1 Previsão: 1\n",
      "Entrada: 1 Previsão: 1\n",
      "Entrada: 1 Previsão: 1\n",
      "Entrada: 1 Previsão: 1\n",
      "Entrada: 1 Previsão: 0\n",
      "Entrada: 1 Previsão: 1\n",
      "Entrada: 0 Previsão: 0\n",
      "Entrada: 1 Previsão: 1\n",
      "Entrada: 1 Previsão: 1\n",
      "Entrada: 1 Previsão: 1\n",
      "Entrada: 1 Previsão: 1\n",
      "Entrada: 1 Previsão: 1\n",
      "Entrada: 1 Previsão: 1\n",
      "Entrada: 0 Previsão: 0\n",
      "Entrada: 0 Previsão: 1\n",
      "Entrada: 1 Previsão: 1\n",
      "Entrada: 1 Previsão: 1\n",
      "Entrada: 0 Previsão: 1\n",
      "Entrada: 1 Previsão: 1\n",
      "Entrada: 0 Previsão: 1\n",
      "Entrada: 0 Previsão: 1\n",
      "Entrada: 0 Previsão: 1\n",
      "Entrada: 1 Previsão: 1\n",
      "Entrada: 1 Previsão: 1\n",
      "Entrada: 1 Previsão: 1\n",
      "Entrada: 0 Previsão: 1\n",
      "Entrada: 1 Previsão: 1\n",
      "Entrada: 0 Previsão: 0\n",
      "Entrada: 0 Previsão: 0\n",
      "Entrada: 0 Previsão: 1\n",
      "Entrada: 1 Previsão: 0\n",
      "Entrada: 1 Previsão: 1\n",
      "Entrada: 1 Previsão: 1\n",
      "Entrada: 1 Previsão: 1\n",
      "Entrada: 1 Previsão: 1\n",
      "Entrada: 0 Previsão: 0\n",
      "Entrada: 1 Previsão: 1\n",
      "Entrada: 1 Previsão: 1\n",
      "Entrada: 1 Previsão: 1\n",
      "Entrada: 1 Previsão: 1\n",
      "Entrada: 1 Previsão: 1\n",
      "Entrada: 1 Previsão: 1\n",
      "Entrada: 1 Previsão: 1\n",
      "Entrada: 1 Previsão: 1\n",
      "Entrada: 1 Previsão: 1\n",
      "Entrada: 0 Previsão: 0\n",
      "Entrada: 1 Previsão: 0\n"
     ]
    }
   ],
   "source": [
    "for i in range(len(X_teste)):\n",
    "    print(\"Entrada:\", y_teste[i], \"Previsão:\", previsoes[i])"
   ]
  },
  {
   "cell_type": "markdown",
   "id": "bece1341-40e5-444e-a670-24b1f86eeb3a",
   "metadata": {},
   "source": [
    "Usando para fazer previsões de dados inéditos para o modelo"
   ]
  },
  {
   "cell_type": "code",
   "execution_count": 36,
   "id": "6378c275-6c08-4f05-a086-29502a846c5d",
   "metadata": {},
   "outputs": [
    {
     "data": {
      "text/html": [
       "<div>\n",
       "<style scoped>\n",
       "    .dataframe tbody tr th:only-of-type {\n",
       "        vertical-align: middle;\n",
       "    }\n",
       "\n",
       "    .dataframe tbody tr th {\n",
       "        vertical-align: top;\n",
       "    }\n",
       "\n",
       "    .dataframe thead th {\n",
       "        text-align: right;\n",
       "    }\n",
       "</style>\n",
       "<table border=\"1\" class=\"dataframe\">\n",
       "  <thead>\n",
       "    <tr style=\"text-align: right;\">\n",
       "      <th></th>\n",
       "      <th>duracao</th>\n",
       "      <th>historico_credito</th>\n",
       "      <th>proposito</th>\n",
       "      <th>valor</th>\n",
       "      <th>tempo_parcelamento</th>\n",
       "      <th>estado_civil</th>\n",
       "      <th>fiador_terceiros</th>\n",
       "      <th>idade</th>\n",
       "      <th>outros_financiamentos</th>\n",
       "      <th>habitacao</th>\n",
       "      <th>emprestimo_existente</th>\n",
       "      <th>profissao</th>\n",
       "      <th>dependentes</th>\n",
       "      <th>socio_empresa</th>\n",
       "      <th>estrangeiro</th>\n",
       "    </tr>\n",
       "  </thead>\n",
       "  <tbody>\n",
       "    <tr>\n",
       "      <th>0</th>\n",
       "      <td>48</td>\n",
       "      <td>existentes/pagos</td>\n",
       "      <td>reforma</td>\n",
       "      <td>5851</td>\n",
       "      <td>2</td>\n",
       "      <td>feminino div/dep/cas</td>\n",
       "      <td>nao</td>\n",
       "      <td>22</td>\n",
       "      <td>nenhum</td>\n",
       "      <td>propria</td>\n",
       "      <td>1</td>\n",
       "      <td>qualificado</td>\n",
       "      <td>1</td>\n",
       "      <td>0</td>\n",
       "      <td>0</td>\n",
       "    </tr>\n",
       "    <tr>\n",
       "      <th>1</th>\n",
       "      <td>24</td>\n",
       "      <td>sem creditos/todos pagos</td>\n",
       "      <td>veiculo usado</td>\n",
       "      <td>25000</td>\n",
       "      <td>4</td>\n",
       "      <td>masculino solteiro</td>\n",
       "      <td>sim</td>\n",
       "      <td>18</td>\n",
       "      <td>banco</td>\n",
       "      <td>de graca</td>\n",
       "      <td>1</td>\n",
       "      <td>qualificado</td>\n",
       "      <td>2</td>\n",
       "      <td>0</td>\n",
       "      <td>0</td>\n",
       "    </tr>\n",
       "    <tr>\n",
       "      <th>2</th>\n",
       "      <td>5</td>\n",
       "      <td>existentes/pagos</td>\n",
       "      <td>reforma</td>\n",
       "      <td>2000</td>\n",
       "      <td>1</td>\n",
       "      <td>masculino cas/viu</td>\n",
       "      <td>sim</td>\n",
       "      <td>34</td>\n",
       "      <td>nenhum</td>\n",
       "      <td>propria</td>\n",
       "      <td>2</td>\n",
       "      <td>altamente qualificado/empresario\\t</td>\n",
       "      <td>1</td>\n",
       "      <td>1</td>\n",
       "      <td>0</td>\n",
       "    </tr>\n",
       "  </tbody>\n",
       "</table>\n",
       "</div>"
      ],
      "text/plain": [
       "   duracao         historico_credito      proposito  valor  \\\n",
       "0       48          existentes/pagos        reforma   5851   \n",
       "1       24  sem creditos/todos pagos  veiculo usado  25000   \n",
       "2        5          existentes/pagos        reforma   2000   \n",
       "\n",
       "   tempo_parcelamento          estado_civil fiador_terceiros  idade  \\\n",
       "0                   2  feminino div/dep/cas              nao     22   \n",
       "1                   4    masculino solteiro              sim     18   \n",
       "2                   1     masculino cas/viu              sim     34   \n",
       "\n",
       "  outros_financiamentos habitacao  emprestimo_existente  \\\n",
       "0                nenhum   propria                     1   \n",
       "1                 banco  de graca                     1   \n",
       "2                nenhum   propria                     2   \n",
       "\n",
       "                            profissao  dependentes  socio_empresa  estrangeiro  \n",
       "0                         qualificado            1              0            0  \n",
       "1                         qualificado            2              0            0  \n",
       "2  altamente qualificado/empresario\\t            1              1            0  "
      ]
     },
     "execution_count": 36,
     "metadata": {},
     "output_type": "execute_result"
    }
   ],
   "source": [
    "novos_dados = pd.read_csv('novos_dados.csv',sep=\";\")\n",
    "novos_dados.head()"
   ]
  },
  {
   "cell_type": "code",
   "execution_count": 37,
   "id": "2a863687-c9e9-4941-8192-8791415308d2",
   "metadata": {},
   "outputs": [],
   "source": [
    "novos_dados.valor = np.log(novos_dados.valor)\n",
    "novos_dados = novos_dados.iloc[:, 0:15].values\n",
    "novos_dados[:, 1] = labelencoder.fit_transform(novos_dados[:, 1])\n",
    "novos_dados[:, 2] = labelencoder.fit_transform(novos_dados[:, 2])\n",
    "novos_dados[:, 5] = labelencoder.fit_transform(novos_dados[:, 5])\n",
    "novos_dados[:, 6] = labelencoder.fit_transform(novos_dados[:, 6])\n",
    "novos_dados[:, 8] = labelencoder.fit_transform(novos_dados[:, 8])\n",
    "novos_dados[:, 9] = labelencoder.fit_transform(novos_dados[:, 9])\n",
    "novos_dados[:, 11] = labelencoder.fit_transform(novos_dados[:, 11])\n"
   ]
  },
  {
   "cell_type": "code",
   "execution_count": 38,
   "id": "f22ca184-5097-4dcd-be2e-e3181f9dba37",
   "metadata": {},
   "outputs": [
    {
     "data": {
      "text/plain": [
       "array([0, 0, 1], dtype=int64)"
      ]
     },
     "execution_count": 38,
     "metadata": {},
     "output_type": "execute_result"
    }
   ],
   "source": [
    "floresta.predict(novos_dados)"
   ]
  },
  {
   "cell_type": "code",
   "execution_count": null,
   "id": "59e58f71-c9b0-4289-b69c-1fbe7ba82f95",
   "metadata": {},
   "outputs": [],
   "source": []
  }
 ],
 "metadata": {
  "kernelspec": {
   "display_name": "Python 3 (ipykernel)",
   "language": "python",
   "name": "python3"
  },
  "language_info": {
   "codemirror_mode": {
    "name": "ipython",
    "version": 3
   },
   "file_extension": ".py",
   "mimetype": "text/x-python",
   "name": "python",
   "nbconvert_exporter": "python",
   "pygments_lexer": "ipython3",
   "version": "3.9.13"
  }
 },
 "nbformat": 4,
 "nbformat_minor": 5
}
